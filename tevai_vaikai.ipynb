{
 "cells": [
  {
   "cell_type": "code",
   "execution_count": 2,
   "metadata": {},
   "outputs": [],
   "source": [
    "from sqlalchemy.orm import sessionmaker\n",
    "from models import engine, Tevas, Vaikas\n",
    "\n",
    "session = sessionmaker(engine)()"
   ]
  },
  {
   "cell_type": "code",
   "execution_count": 3,
   "metadata": {},
   "outputs": [],
   "source": [
    "naujas_tevas = Tevas(vardas=\"Kietas\", pavarde=\"Vyras\")\n",
    "naujas_vaikas = Vaikas(\n",
    "    vardas=\"Sustras\", \n",
    "    pavarde=\"Vyras\", \n",
    "    tevas=naujas_tevas,\n",
    "    mokymo_istaiga=\"CodeAcademy\",\n",
    ")\n",
    "session.add(naujas_tevas)\n",
    "session.add(naujas_vaikas)\n",
    "session.commit()"
   ]
  },
  {
   "cell_type": "code",
   "execution_count": 4,
   "metadata": {},
   "outputs": [
    {
     "name": "stdout",
     "output_type": "stream",
     "text": [
      "[(1, Sustras, Nevyras, (1, Belekas, Nevyras)),\n",
      " (2, Gudrus, Vaikis, (2, Rmtas, Vaikis)),\n",
      " (3, Smagi, Vaikyte, (2, Rmtas, Vaikis)),\n",
      " (4, Sustras, Nevyras, (3, Belekas, Nevyras)),\n",
      " (5, Gudrus, Vaikis, (4, Rmtas, Vaikis)),\n",
      " (6, Smagi, Vaikyte, (4, Rmtas, Vaikis)),\n",
      " (7, Sustras, Nevyras, (5, Belekas, Nevyras)),\n",
      " (8, Gudrus, Vaikis, (6, Rmtas, Vaikis)),\n",
      " (9, Smagi, Vaikyte, (6, Rmtas, Vaikis)),\n",
      " (10, Sustras, Vyras, (7, Kietas, Vyras))]\n"
     ]
    }
   ],
   "source": [
    "from pprint import pprint\n",
    "vaikai = session.query(Vaikas).all()\n",
    "pprint(vaikai)"
   ]
  },
  {
   "cell_type": "code",
   "execution_count": 6,
   "metadata": {},
   "outputs": [
    {
     "data": {
      "text/plain": [
       "[(1, Sustras, Nevyras, (1, Belekas, Nevyras)),\n",
       " (2, Gudrus, Vaikis, (1, Belekas, Nevyras)),\n",
       " (3, Smagi, Vaikyte, (2, Rmtas, Vaikis)),\n",
       " (4, Sustras, Nevyras, (3, Belekas, Nevyras)),\n",
       " (5, Gudrus, Vaikis, (4, Rmtas, Vaikis)),\n",
       " (6, Smagi, Vaikyte, (4, Rmtas, Vaikis)),\n",
       " (7, Sustras, Nevyras, (5, Belekas, Nevyras)),\n",
       " (8, Gudrus, Vaikis, (6, Rmtas, Vaikis)),\n",
       " (9, Smagi, Vaikyte, (6, Rmtas, Vaikis)),\n",
       " (10, Sustras, Vyras, (7, Kietas, Vyras))]"
      ]
     },
     "execution_count": 6,
     "metadata": {},
     "output_type": "execute_result"
    }
   ],
   "source": [
    "vaikai[1].tevas = session.query(Tevas).get(1)\n",
    "#session.commit()\n",
    "vaikai"
   ]
  },
  {
   "cell_type": "code",
   "execution_count": 7,
   "metadata": {},
   "outputs": [
    {
     "data": {
      "text/plain": [
       "(2, Rmtas, Vaikis)"
      ]
     },
     "execution_count": 7,
     "metadata": {},
     "output_type": "execute_result"
    }
   ],
   "source": [
    "tevas = session.query(Tevas).get(2)\n",
    "tevas"
   ]
  },
  {
   "cell_type": "code",
   "execution_count": 15,
   "metadata": {},
   "outputs": [],
   "source": [
    "sunelis = Vaikas(vardas=\"Gudrus\", pavarde=\"Vaikis\")\n",
    "dukrele = Vaikas(vardas=\"Smagi\", pavarde=\"Vaikyte\")\n",
    "tevas = Tevas(vardas=\"Rmtas\", pavarde=\"Vaikis\")\n",
    "tevas.vaikai.append(sunelis)\n",
    "tevas.vaikai.append(dukrele)\n",
    "session.add(tevas)\n",
    "session.commit()"
   ]
  },
  {
   "cell_type": "code",
   "execution_count": 8,
   "metadata": {},
   "outputs": [
    {
     "data": {
      "text/plain": [
       "[(2, Gudrus, Vaikis, (2, Rmtas, Vaikis)),\n",
       " (3, Smagi, Vaikyte, (2, Rmtas, Vaikis))]"
      ]
     },
     "execution_count": 8,
     "metadata": {},
     "output_type": "execute_result"
    }
   ],
   "source": [
    "tevas = session.query(Tevas).get(2)\n",
    "tevas.vaikai"
   ]
  },
  {
   "cell_type": "code",
   "execution_count": 9,
   "metadata": {},
   "outputs": [
    {
     "name": "stdout",
     "output_type": "stream",
     "text": [
      "tevas: (1, Belekas, Nevyras) \n",
      "vaikai:\n",
      "[(1, Sustras, Nevyras, (1, Belekas, Nevyras)),\n",
      " (2, Gudrus, Vaikis, (1, Belekas, Nevyras))]\n",
      "tevas: (2, Rmtas, Vaikis) \n",
      "vaikai:\n",
      "[(3, Smagi, Vaikyte, (2, Rmtas, Vaikis))]\n",
      "tevas: (3, Belekas, Nevyras) \n",
      "vaikai:\n",
      "[(4, Sustras, Nevyras, (3, Belekas, Nevyras))]\n",
      "tevas: (4, Rmtas, Vaikis) \n",
      "vaikai:\n",
      "[(5, Gudrus, Vaikis, (4, Rmtas, Vaikis)),\n",
      " (6, Smagi, Vaikyte, (4, Rmtas, Vaikis))]\n",
      "tevas: (5, Belekas, Nevyras) \n",
      "vaikai:\n",
      "[(7, Sustras, Nevyras, (5, Belekas, Nevyras))]\n",
      "tevas: (6, Rmtas, Vaikis) \n",
      "vaikai:\n",
      "[(8, Gudrus, Vaikis, (6, Rmtas, Vaikis)),\n",
      " (9, Smagi, Vaikyte, (6, Rmtas, Vaikis))]\n",
      "tevas: (7, Kietas, Vyras) \n",
      "vaikai:\n",
      "[(10, Sustras, Vyras, (7, Kietas, Vyras))]\n",
      "tevas: (8, Rmtas, Vaikis) \n",
      "vaikai:\n",
      "[(11, Gudrus, Vaikis, (8, Rmtas, Vaikis)),\n",
      " (12, Smagi, Vaikyte, (8, Rmtas, Vaikis))]\n"
     ]
    }
   ],
   "source": [
    "tevai= session.query(Tevas).all()\n",
    "for tevas in tevai:\n",
    "    print('tevas:', tevas, \"\\nvaikai:\")\n",
    "    pprint(tevas.vaikai)"
   ]
  },
  {
   "cell_type": "code",
   "execution_count": 10,
   "metadata": {},
   "outputs": [
    {
     "data": {
      "text/plain": [
       "'Gudrus'"
      ]
     },
     "execution_count": 10,
     "metadata": {},
     "output_type": "execute_result"
    }
   ],
   "source": [
    "tevas.vaikai[0].vardas"
   ]
  },
  {
   "cell_type": "code",
   "execution_count": 11,
   "metadata": {},
   "outputs": [
    {
     "data": {
      "text/plain": [
       "[(11, Gudrus, Vaikis, (8, Rmtas, Vaikis)),\n",
       " (12, Gudri, Vaikyte, (8, Rmtas, Vaikis))]"
      ]
     },
     "execution_count": 11,
     "metadata": {},
     "output_type": "execute_result"
    }
   ],
   "source": [
    "tevas.vaikai[1].vardas = 'Gudri'\n",
    "tevas.vaikai"
   ]
  },
  {
   "cell_type": "code",
   "execution_count": 12,
   "metadata": {},
   "outputs": [
    {
     "data": {
      "text/plain": [
       "(12, Gudri, Vaikyte, None)"
      ]
     },
     "execution_count": 12,
     "metadata": {},
     "output_type": "execute_result"
    }
   ],
   "source": [
    "pamestinukas = tevas.vaikai.pop()\n",
    "pamestinukas"
   ]
  },
  {
   "cell_type": "code",
   "execution_count": 13,
   "metadata": {},
   "outputs": [
    {
     "data": {
      "text/plain": [
       "[(1, Sustras, Nevyras, (1, Belekas, Nevyras)),\n",
       " (2, Gudrus, Vaikis, (1, Belekas, Nevyras)),\n",
       " (3, Smagi, Vaikyte, (2, Rmtas, Vaikis)),\n",
       " (4, Sustras, Nevyras, (3, Belekas, Nevyras)),\n",
       " (5, Gudrus, Vaikis, (4, Rmtas, Vaikis)),\n",
       " (6, Smagi, Vaikyte, (4, Rmtas, Vaikis)),\n",
       " (7, Sustras, Nevyras, (5, Belekas, Nevyras)),\n",
       " (8, Gudrus, Vaikis, (6, Rmtas, Vaikis)),\n",
       " (9, Smagi, Vaikyte, (6, Rmtas, Vaikis)),\n",
       " (10, Sustras, Vyras, (7, Kietas, Vyras)),\n",
       " (11, Gudrus, Vaikis, (8, Rmtas, Vaikis)),\n",
       " (12, Gudri, Vaikyte, None)]"
      ]
     },
     "execution_count": 13,
     "metadata": {},
     "output_type": "execute_result"
    }
   ],
   "source": [
    "vaikai = session.query(Vaikas).all()\n",
    "vaikai"
   ]
  },
  {
   "cell_type": "code",
   "execution_count": 18,
   "metadata": {},
   "outputs": [
    {
     "ename": "ValueError",
     "evalue": "list.remove(x): x not in list",
     "output_type": "error",
     "traceback": [
      "\u001b[1;31m---------------------------------------------------------------------------\u001b[0m",
      "\u001b[1;31mValueError\u001b[0m                                Traceback (most recent call last)",
      "Cell \u001b[1;32mIn [18], line 1\u001b[0m\n\u001b[1;32m----> 1\u001b[0m tevas\u001b[39m.\u001b[39;49mvaikai\u001b[39m.\u001b[39;49mremove(vaikai[\u001b[39m2\u001b[39;49m])\n\u001b[0;32m      2\u001b[0m tevas\n",
      "File \u001b[1;32mc:\\Users\\pered\\OneDrive\\Desktop\\new_folder\\ptu_svarbus\\venv\\lib\\site-packages\\sqlalchemy\\orm\\collections.py:1179\u001b[0m, in \u001b[0;36m_list_decorators.<locals>.remove.<locals>.remove\u001b[1;34m(self, value, _sa_initiator)\u001b[0m\n\u001b[0;32m   1177\u001b[0m __del(\u001b[39mself\u001b[39m, value, _sa_initiator)\n\u001b[0;32m   1178\u001b[0m \u001b[39m# testlib.pragma exempt:__eq__\u001b[39;00m\n\u001b[1;32m-> 1179\u001b[0m fn(\u001b[39mself\u001b[39;49m, value)\n",
      "\u001b[1;31mValueError\u001b[0m: list.remove(x): x not in list"
     ]
    }
   ],
   "source": [
    "tevas.vaikai.remove(vaikai[2])\n",
    "tevas"
   ]
  },
  {
   "cell_type": "code",
   "execution_count": 17,
   "metadata": {},
   "outputs": [],
   "source": [
    "tevas.vaikai.append(vaikai[1])\n",
    "tevas.vaikai.append(vaikai[2])"
   ]
  },
  {
   "cell_type": "code",
   "execution_count": 18,
   "metadata": {},
   "outputs": [
    {
     "name": "stdout",
     "output_type": "stream",
     "text": [
      "[(8, Gudrus, Vaikis, (6, Rmtas, Vaikis)),\n",
      " (3, Smagi, Vaikyte, (6, Rmtas, Vaikis)),\n",
      " (2, Gudrus, Vaikis, (6, Rmtas, Vaikis)),\n",
      " (3, Smagi, Vaikyte, (6, Rmtas, Vaikis))]\n"
     ]
    }
   ],
   "source": [
    "pprint(tevas.vaikai)"
   ]
  },
  {
   "cell_type": "code",
   "execution_count": 19,
   "metadata": {},
   "outputs": [],
   "source": [
    "from crud import update_object, delete_object"
   ]
  },
  {
   "cell_type": "code",
   "execution_count": 20,
   "metadata": {},
   "outputs": [
    {
     "data": {
      "text/plain": [
       "(2, Rimtesnis, Vaikis)"
      ]
     },
     "execution_count": 20,
     "metadata": {},
     "output_type": "execute_result"
    }
   ],
   "source": [
    "rimtesnis = update_object(Tevas, 2, vardas=\"Rimtesnis\")\n",
    "rimtesnis"
   ]
  },
  {
   "cell_type": "code",
   "execution_count": 21,
   "metadata": {},
   "outputs": [
    {
     "data": {
      "text/plain": [
       "[(2, Rimtesnis, Vaikis),\n",
       " (4, Rmtas, Vaikis),\n",
       " (6, Rmtas, Vaikis),\n",
       " (8, Rmtas, Vaikis),\n",
       " (9, Rmtas, Vaikis)]"
      ]
     },
     "execution_count": 21,
     "metadata": {},
     "output_type": "execute_result"
    }
   ],
   "source": [
    "tevelis = session.query(Tevas).filter(Tevas.vardas.ilike(\"R%\")).all()\n",
    "tevelis"
   ]
  },
  {
   "cell_type": "code",
   "execution_count": null,
   "metadata": {},
   "outputs": [],
   "source": []
  }
 ],
 "metadata": {
  "kernelspec": {
   "display_name": "Python 3.10.6 ('venv': venv)",
   "language": "python",
   "name": "python3"
  },
  "language_info": {
   "codemirror_mode": {
    "name": "ipython",
    "version": 3
   },
   "file_extension": ".py",
   "mimetype": "text/x-python",
   "name": "python",
   "nbconvert_exporter": "python",
   "pygments_lexer": "ipython3",
   "version": "3.10.6"
  },
  "orig_nbformat": 4,
  "vscode": {
   "interpreter": {
    "hash": "107d52133502d0c21e4f0403928799d671cc7aab8229e142ce8afee8e84ac6e4"
   }
  }
 },
 "nbformat": 4,
 "nbformat_minor": 2
}
