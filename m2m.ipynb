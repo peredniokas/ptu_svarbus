{
 "cells": [
  {
   "cell_type": "code",
   "execution_count": 1,
   "metadata": {},
   "outputs": [],
   "source": [
    "from sqlalchemy.orm import sessionmaker\n",
    "from models_m2m import engine, Tevas, Vaikas\n",
    "from pprint import pprint\n",
    "\n",
    "session = sessionmaker(engine)()"
   ]
  },
  {
   "cell_type": "code",
   "execution_count": 6,
   "metadata": {},
   "outputs": [],
   "source": [
    "tevas = Tevas(vardas=\"Dainius\", pavarde=\"Perednis\")\n",
    "mama = Tevas(vardas=\"Ieva\", pavarde=\"Lipinskaite\")\n",
    "alisa = Vaikas(vardas=\"Alisa\", pavarde=\"Perednyte\")\n",
    "sekantis = Vaikas(vardas=\"Busimas\", pavarde=\"Perednis\")\n",
    "dar_kitas = Vaikas(vardas=\"Mergaiciuke\", pavarde=\"Perednyte\")\n",
    "\n",
    "#tevas.vaikai.append(alisa)\n",
    "#mama.vaikai.append(alisa)\n",
    "#tevas.vaikai.append(sekantis)\n",
    "#mama.vaikai.append(sekantis)\n",
    "#tevas.vaikai.append(dar_kitas)\n",
    "mama.vaikai.append(dar_kitas)\n",
    "session.add(tevas)\n",
    "session.add(mama)\n",
    "session.commit()\n"
   ]
  },
  {
   "cell_type": "code",
   "execution_count": 3,
   "metadata": {},
   "outputs": [],
   "source": [
    "session.add(dar_kitas)\n",
    "session.commit()"
   ]
  },
  {
   "cell_type": "code",
   "execution_count": 7,
   "metadata": {},
   "outputs": [
    {
     "name": "stdout",
     "output_type": "stream",
     "text": [
      "[(1, Dainius, Perednis),\n",
      " (2, Ieva, Lipinskaite),\n",
      " (3, Dainius, Perednis),\n",
      " (4, Ieva, Lipinskaite)]\n",
      "[(1, Alisa, Perednyte),\n",
      " (2, Busimas, Perednis),\n",
      " (3, Mergaiciuke, Perednyte),\n",
      " (4, Mergaiciuke, Perednyte)]\n"
     ]
    }
   ],
   "source": [
    "tevai = session.query(Tevas).all()\n",
    "pprint(tevai)\n",
    "vaikai = session.query(Vaikas).all()\n",
    "pprint(vaikai)"
   ]
  },
  {
   "cell_type": "code",
   "execution_count": 8,
   "metadata": {},
   "outputs": [
    {
     "name": "stdout",
     "output_type": "stream",
     "text": [
      "(1, Alisa, Perednyte)\n",
      "- (1, Dainius, Perednis)\n",
      "- (2, Ieva, Lipinskaite)\n",
      "(2, Busimas, Perednis)\n",
      "- (1, Dainius, Perednis)\n",
      "- (2, Ieva, Lipinskaite)\n",
      "(3, Mergaiciuke, Perednyte)\n",
      "- (1, Dainius, Perednis)\n",
      "(4, Mergaiciuke, Perednyte)\n",
      "- (4, Ieva, Lipinskaite)\n"
     ]
    }
   ],
   "source": [
    "for vaikas in vaikai:\n",
    "    print(vaikas)\n",
    "    for tevas in vaikas.tevai:\n",
    "        print(\"-\", tevas)"
   ]
  },
  {
   "cell_type": "code",
   "execution_count": null,
   "metadata": {},
   "outputs": [],
   "source": []
  }
 ],
 "metadata": {
  "kernelspec": {
   "display_name": "Python 3.10.6 ('venv': venv)",
   "language": "python",
   "name": "python3"
  },
  "language_info": {
   "codemirror_mode": {
    "name": "ipython",
    "version": 3
   },
   "file_extension": ".py",
   "mimetype": "text/x-python",
   "name": "python",
   "nbconvert_exporter": "python",
   "pygments_lexer": "ipython3",
   "version": "3.10.6"
  },
  "orig_nbformat": 4,
  "vscode": {
   "interpreter": {
    "hash": "107d52133502d0c21e4f0403928799d671cc7aab8229e142ce8afee8e84ac6e4"
   }
  }
 },
 "nbformat": 4,
 "nbformat_minor": 2
}
